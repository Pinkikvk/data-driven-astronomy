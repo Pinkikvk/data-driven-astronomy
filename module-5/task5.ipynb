{
 "metadata": {
  "language_info": {
   "codemirror_mode": {
    "name": "ipython",
    "version": 3
   },
   "file_extension": ".py",
   "mimetype": "text/x-python",
   "name": "python",
   "nbconvert_exporter": "python",
   "pygments_lexer": "ipython3",
   "version": "3.8.5-final"
  },
  "orig_nbformat": 2,
  "kernelspec": {
   "name": "python3",
   "display_name": "Python 3"
  }
 },
 "nbformat": 4,
 "nbformat_minor": 2,
 "cells": [
  {
   "cell_type": "code",
   "execution_count": 1,
   "metadata": {},
   "outputs": [],
   "source": [
    "import numpy as np\n",
    "from sklearn.model_selection import KFold\n",
    "from sklearn.tree import DecisionTreeRegressor"
   ]
  },
  {
   "cell_type": "code",
   "execution_count": 2,
   "metadata": {},
   "outputs": [],
   "source": [
    "def get_features_targets(data):\n",
    "    features = np.zeros((data.shape[0],4))\n",
    "    features[:,0] = data['u'] - data['g']\n",
    "    features[:,1] = data['g'] - data['r']\n",
    "    features[:,2] = data['r'] - data['i']\n",
    "    features[:,3] = data['i'] - data['z']\n",
    "\n",
    "    targets = data['redshift']\n",
    "\n",
    "    return features, targets "
   ]
  },
  {
   "cell_type": "code",
   "execution_count": 3,
   "metadata": {},
   "outputs": [],
   "source": [
    "def median_diff(predicted, actual):\n",
    "    return np.median(np.abs(predicted - actual))"
   ]
  },
  {
   "cell_type": "code",
   "execution_count": 4,
   "metadata": {},
   "outputs": [],
   "source": [
    "def cross_validate_model(model, features, targets, k):\n",
    "    kf = KFold(n_splits=k, shuffle=True)\n",
    "\n",
    "    median_diffs = list()\n",
    "\n",
    "    for train_indices, test_indices in kf.split(features):\n",
    "        train_features, test_features = features[train_indices], features[test_indices]\n",
    "        train_targets, test_targets = targets[train_indices], targets[test_indices]\n",
    "\n",
    "        model.fit(train_features, train_targets)\n",
    "        median_diffs.append(median_diff(model.predict(test_features), test_targets))\n",
    "\n",
    "    return median_diffs"
   ]
  },
  {
   "cell_type": "code",
   "execution_count": 7,
   "metadata": {},
   "outputs": [],
   "source": [
    "def split_galaxies_qsos(data):\n",
    "    galaxies = data[data['spec_class'] == b'GALAXY']\n",
    "    qso = data[data['spec_class'] == b'QSO']\n",
    "    return galaxies, qso"
   ]
  },
  {
   "cell_type": "code",
   "execution_count": 8,
   "metadata": {},
   "outputs": [],
   "source": [
    "def cross_validate_median_diff(data):\n",
    "  features, targets = get_features_targets(data)\n",
    "  dtr = DecisionTreeRegressor(max_depth=19)\n",
    "  return np.mean(cross_validate_model(dtr, features, targets, 10))"
   ]
  },
  {
   "cell_type": "code",
   "execution_count": 9,
   "metadata": {},
   "outputs": [
    {
     "output_type": "stream",
     "name": "stdout",
     "text": [
      "Median difference for Galaxies: 0.016\nMedian difference for QSOs: 0.075\n"
     ]
    }
   ],
   "source": [
    "data = np.load('./sdss_galaxy_colors.npy')\n",
    "\n",
    "# Split the data set into galaxies and QSOs\n",
    "galaxies, qsos= split_galaxies_qsos(data)\n",
    "\n",
    "# Here we cross validate the model and get the cross-validated median difference\n",
    "# The cross_validated_med_diff function is in \"written_functions\"\n",
    "galaxy_med_diff = cross_validate_median_diff(galaxies)\n",
    "qso_med_diff = cross_validate_median_diff(qsos)\n",
    "\n",
    "# Print the results\n",
    "print(\"Median difference for Galaxies: {:.3f}\".format(galaxy_med_diff))\n",
    "print(\"Median difference for QSOs: {:.3f}\".format(qso_med_diff))"
   ]
  },
  {
   "cell_type": "code",
   "execution_count": null,
   "metadata": {},
   "outputs": [],
   "source": []
  }
 ]
}