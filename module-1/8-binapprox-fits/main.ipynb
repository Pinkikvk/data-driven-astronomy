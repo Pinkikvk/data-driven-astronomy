{
 "cells": [
  {
   "cell_type": "code",
   "execution_count": 3,
   "metadata": {},
   "outputs": [],
   "source": [
    "import numpy as np\n",
    "from astropy.io import fits\n",
    "from helper import running_stats"
   ]
  },
  {
   "cell_type": "code",
   "execution_count": 63,
   "metadata": {},
   "outputs": [],
   "source": [
    "def median_bins_fits(files, buckets):\n",
    "    mean, std = running_stats(files)\n",
    "    minval = mean - std\n",
    "    maxval = mean + std\n",
    "    \n",
    "    b_width = 2 * std / buckets\n",
    "    ignore_count = np.zeros(mean.shape)\n",
    "    b = np.zeros(mean.shape + (buckets,))\n",
    "    \n",
    "    for file in files:\n",
    "        data = fits.open(file)[0].data\n",
    "        for x in range(data.shape[0]):\n",
    "            for y in range(data.shape[1]):\n",
    "                if data[x,y] < minval[x,y]:\n",
    "                    ignore_count[x,y] += 1\n",
    "                    continue\n",
    "                if data[x,y] >= maxval[x,y]:\n",
    "                    continue\n",
    "                b_index = int((data[x,y] - maxval[x,y]) // b_width[x,y])\n",
    "                b[x,y,b_index] += 1\n",
    "    \n",
    "    return mean, std, ignore_count, b"
   ]
  },
  {
   "cell_type": "code",
   "execution_count": 64,
   "metadata": {},
   "outputs": [],
   "source": [
    "mean, std, left_bin, bins = median_bins_fits(['image0.fits', 'image1.fits', 'image2.fits'], 5)"
   ]
  },
  {
   "cell_type": "code",
   "execution_count": 65,
   "metadata": {},
   "outputs": [
    {
     "data": {
      "text/plain": [
       "0.018398113548755646"
      ]
     },
     "execution_count": 65,
     "metadata": {},
     "output_type": "execute_result"
    }
   ],
   "source": [
    "mean[100, 100]"
   ]
  },
  {
   "cell_type": "code",
   "execution_count": 66,
   "metadata": {},
   "outputs": [
    {
     "data": {
      "text/plain": [
       "0.010496325561403296"
      ]
     },
     "execution_count": 66,
     "metadata": {},
     "output_type": "execute_result"
    }
   ],
   "source": [
    "std[100, 100]"
   ]
  },
  {
   "cell_type": "code",
   "execution_count": 67,
   "metadata": {},
   "outputs": [
    {
     "data": {
      "text/plain": [
       "0.0"
      ]
     },
     "execution_count": 67,
     "metadata": {},
     "output_type": "execute_result"
    }
   ],
   "source": [
    "left_bin[100, 100]"
   ]
  },
  {
   "cell_type": "code",
   "execution_count": 68,
   "metadata": {},
   "outputs": [
    {
     "data": {
      "text/plain": [
       "array([0., 2., 0., 0., 0.])"
      ]
     },
     "execution_count": 68,
     "metadata": {},
     "output_type": "execute_result"
    }
   ],
   "source": [
    "bins[100, 100, :]"
   ]
  },
  {
   "cell_type": "code",
   "execution_count": 75,
   "metadata": {},
   "outputs": [],
   "source": [
    "def median_approx_fits(files, buckets):\n",
    "    mean, std, ignore_count, b = median_bins_fits(files, buckets)\n",
    "    count = np.zeros(mean.shape) + ignore_count\n",
    "    minval = mean - std\n",
    "    b_width = 2 * std / buckets\n",
    "    \n",
    "    median = np.zeros(mean.shape)\n",
    "    \n",
    "    for x in range(mean.shape[0]):\n",
    "            for y in range(mean.shape[1]):\n",
    "                for i in range(buckets):\n",
    "                    count[x,y] += b[x,y,i]\n",
    "                    if count[x,y] >= (len(files) + 1) / 2 or i == buckets - 1:\n",
    "                        median[x,y] = (minval[x,y]) + (b_width[x,y]) * (i + 0.5)\n",
    "                        break\n",
    "                        \n",
    "    return median"
   ]
  },
  {
   "cell_type": "code",
   "execution_count": 76,
   "metadata": {},
   "outputs": [
    {
     "data": {
      "text/plain": [
       "0.014199583324194326"
      ]
     },
     "execution_count": 76,
     "metadata": {},
     "output_type": "execute_result"
    }
   ],
   "source": [
    "median = median_approx_fits(['image0.fits', 'image1.fits', 'image2.fits'], 5)\n",
    "median[100, 100]"
   ]
  },
  {
   "cell_type": "code",
   "execution_count": 77,
   "metadata": {},
   "outputs": [],
   "source": [
    "mean, std, left_bin, bins = median_bins_fits(['image{}.fits'.format(str(i)) for i in range(11)], 4)\n",
    "median = median_approx_fits(['image{}.fits'.format(str(i)) for i in range(11)], 4)"
   ]
  },
  {
   "cell_type": "code",
   "execution_count": 78,
   "metadata": {},
   "outputs": [
    {
     "data": {
      "text/plain": [
       "0.014677493579008364"
      ]
     },
     "execution_count": 78,
     "metadata": {},
     "output_type": "execute_result"
    }
   ],
   "source": [
    "mean[100, 100]"
   ]
  },
  {
   "cell_type": "code",
   "execution_count": 79,
   "metadata": {},
   "outputs": [
    {
     "data": {
      "text/plain": [
       "0.008264575859488706"
      ]
     },
     "execution_count": 79,
     "metadata": {},
     "output_type": "execute_result"
    }
   ],
   "source": [
    "std[100, 100]"
   ]
  },
  {
   "cell_type": "code",
   "execution_count": 80,
   "metadata": {},
   "outputs": [
    {
     "data": {
      "text/plain": [
       "0.0"
      ]
     },
     "execution_count": 80,
     "metadata": {},
     "output_type": "execute_result"
    }
   ],
   "source": [
    "left_bin[100, 100]"
   ]
  },
  {
   "cell_type": "code",
   "execution_count": 81,
   "metadata": {},
   "outputs": [
    {
     "data": {
      "text/plain": [
       "array([4., 5., 0., 0.])"
      ]
     },
     "execution_count": 81,
     "metadata": {},
     "output_type": "execute_result"
    }
   ],
   "source": [
    "bins[100, 100, :]"
   ]
  },
  {
   "cell_type": "code",
   "execution_count": 82,
   "metadata": {},
   "outputs": [
    {
     "data": {
      "text/plain": [
       "0.012611349614136187"
      ]
     },
     "execution_count": 82,
     "metadata": {},
     "output_type": "execute_result"
    }
   ],
   "source": [
    "median[100, 100]"
   ]
  },
  {
   "cell_type": "code",
   "execution_count": null,
   "metadata": {},
   "outputs": [],
   "source": []
  }
 ],
 "metadata": {
  "kernelspec": {
   "display_name": "Python 3",
   "language": "python",
   "name": "python3"
  },
  "language_info": {
   "codemirror_mode": {
    "name": "ipython",
    "version": 3
   },
   "file_extension": ".py",
   "mimetype": "text/x-python",
   "name": "python",
   "nbconvert_exporter": "python",
   "pygments_lexer": "ipython3",
   "version": "3.8.5"
  }
 },
 "nbformat": 4,
 "nbformat_minor": 2
}
