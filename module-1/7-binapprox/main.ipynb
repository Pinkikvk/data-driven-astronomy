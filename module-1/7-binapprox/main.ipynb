{
 "cells": [
  {
   "cell_type": "code",
   "execution_count": 1,
   "metadata": {},
   "outputs": [],
   "source": [
    "import numpy as np"
   ]
  },
  {
   "cell_type": "code",
   "execution_count": 5,
   "metadata": {},
   "outputs": [
    {
     "data": {
      "text/plain": [
       "array([1., 0.])"
      ]
     },
     "execution_count": 5,
     "metadata": {},
     "output_type": "execute_result"
    }
   ],
   "source": [
    "zeros = np.zeros(2)\n",
    "zeros\n",
    "zeros[0] += 1\n",
    "zeros"
   ]
  },
  {
   "cell_type": "code",
   "execution_count": 21,
   "metadata": {},
   "outputs": [],
   "source": [
    "def median_bins(values, buckets):\n",
    "    mean = np.mean(values)\n",
    "    std = np.std(values)\n",
    "    minval = mean - std\n",
    "    maxval = mean + std\n",
    "    \n",
    "    b_width = 2 * std / buckets\n",
    "    ignore_count = 0\n",
    "    b = np.zeros(buckets)\n",
    "    \n",
    "    for v in values:\n",
    "        if v < minval:\n",
    "            ignore_count += 1\n",
    "            continue\n",
    "        if v >= maxval:\n",
    "            continue\n",
    "        b_index = int((v - minval) // b_width)\n",
    "        b[b_index] += 1\n",
    "    \n",
    "    return mean, std, ignore_count, b"
   ]
  },
  {
   "cell_type": "code",
   "execution_count": 33,
   "metadata": {},
   "outputs": [],
   "source": [
    "def median_approx(values, buckets):\n",
    "    mean, std, ignore_count, b = median_bins(values, buckets)\n",
    "    count = ignore_count\n",
    "    minval = mean - std\n",
    "    b_width = 2 * std / buckets\n",
    "    \n",
    "    for i in range(buckets):\n",
    "        count += b[i]\n",
    "        if count >= (len(values) + 1) / 2 or i == buckets - 1:\n",
    "            return (minval) + (b_width) * (i + 0.5)\n",
    "        \n",
    "    "
   ]
  },
  {
   "cell_type": "code",
   "execution_count": 34,
   "metadata": {},
   "outputs": [
    {
     "data": {
      "text/plain": [
       "(3.875, 2.521780125229002, 3, array([0., 1., 1., 1.]))"
      ]
     },
     "execution_count": 34,
     "metadata": {},
     "output_type": "execute_result"
    }
   ],
   "source": [
    "median_bins([1, 5, 7, 7, 3, 6, 1, 1], 4)"
   ]
  },
  {
   "cell_type": "code",
   "execution_count": 35,
   "metadata": {},
   "outputs": [
    {
     "data": {
      "text/plain": [
       "4.50544503130725"
      ]
     },
     "execution_count": 35,
     "metadata": {},
     "output_type": "execute_result"
    }
   ],
   "source": [
    "median_approx([1, 5, 7, 7, 3, 6, 1, 1], 4)"
   ]
  },
  {
   "cell_type": "code",
   "execution_count": 36,
   "metadata": {},
   "outputs": [
    {
     "data": {
      "text/plain": [
       "(0.5, 0.5, 0, array([1., 0., 0., 0., 0.]))"
      ]
     },
     "execution_count": 36,
     "metadata": {},
     "output_type": "execute_result"
    }
   ],
   "source": [
    "median_bins([0, 1], 5)"
   ]
  },
  {
   "cell_type": "code",
   "execution_count": 37,
   "metadata": {},
   "outputs": [
    {
     "data": {
      "text/plain": [
       "0.9"
      ]
     },
     "execution_count": 37,
     "metadata": {},
     "output_type": "execute_result"
    }
   ],
   "source": [
    "median_approx([0, 1], 5)"
   ]
  },
  {
   "cell_type": "code",
   "execution_count": null,
   "metadata": {},
   "outputs": [],
   "source": []
  }
 ],
 "metadata": {
  "kernelspec": {
   "display_name": "Python 3",
   "language": "python",
   "name": "python3"
  },
  "language_info": {
   "codemirror_mode": {
    "name": "ipython",
    "version": 3
   },
   "file_extension": ".py",
   "mimetype": "text/x-python",
   "name": "python",
   "nbconvert_exporter": "python",
   "pygments_lexer": "ipython3",
   "version": "3.8.5"
  }
 },
 "nbformat": 4,
 "nbformat_minor": 2
}
