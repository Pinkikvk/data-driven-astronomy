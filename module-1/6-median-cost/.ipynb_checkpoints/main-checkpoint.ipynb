{
 "cells": [
  {
   "cell_type": "code",
   "execution_count": 1,
   "metadata": {},
   "outputs": [],
   "source": [
    "import sys"
   ]
  },
  {
   "cell_type": "code",
   "execution_count": 4,
   "metadata": {},
   "outputs": [],
   "source": [
    "a = 3\n",
    "b = 3.123\n",
    "c = [a,b]\n",
    "d = []"
   ]
  },
  {
   "cell_type": "code",
   "execution_count": 7,
   "metadata": {},
   "outputs": [
    {
     "name": "stdout",
     "output_type": "stream",
     "text": [
      "3 28\n",
      "3.123 24\n",
      "[3, 3.123] 72\n",
      "[] 56\n"
     ]
    }
   ],
   "source": [
    "for obj in [a,b,c,d]:\n",
    "    print(obj, sys.getsizeof(obj))"
   ]
  },
  {
   "cell_type": "code",
   "execution_count": 8,
   "metadata": {},
   "outputs": [],
   "source": [
    "import numpy as np"
   ]
  },
  {
   "cell_type": "code",
   "execution_count": 9,
   "metadata": {},
   "outputs": [],
   "source": [
    "a = np.array([])\n",
    "b = np.array([1, 2, 3])\n",
    "c = np.zeros(10**6)"
   ]
  },
  {
   "cell_type": "code",
   "execution_count": 10,
   "metadata": {},
   "outputs": [
    {
     "name": "stdout",
     "output_type": "stream",
     "text": [
      "sys: 96 np: 0\n",
      "sys: 120 np: 24\n",
      "sys: 8000096 np: 8000000\n"
     ]
    }
   ],
   "source": [
    "for obj in [a, b, c]:\n",
    "  print('sys:', sys.getsizeof(obj), 'np:', obj.nbytes)"
   ]
  },
  {
   "cell_type": "code",
   "execution_count": 11,
   "metadata": {},
   "outputs": [
    {
     "name": "stdout",
     "output_type": "stream",
     "text": [
      "nbytes         : 20\n",
      "size x itemsize: 20\n",
      "nbytes         : 40\n",
      "size x itemsize: 40\n"
     ]
    }
   ],
   "source": [
    "a = np.zeros(5, dtype=np.int32)\n",
    "b = np.zeros(5, dtype=np.float64)\n",
    "\n",
    "for obj in [a, b]:\n",
    "  print('nbytes         :', obj.nbytes)\n",
    "  print('size x itemsize:', obj.size*obj.itemsize)"
   ]
  },
  {
   "cell_type": "code",
   "execution_count": 14,
   "metadata": {},
   "outputs": [],
   "source": [
    "from astropy.io import fits\n",
    "import time"
   ]
  },
  {
   "cell_type": "code",
   "execution_count": 18,
   "metadata": {},
   "outputs": [],
   "source": [
    "def median_fits(files):\n",
    "    stack = []\n",
    "    size = 0\n",
    "    for file in files:\n",
    "        data = fits.open(file)[0].data\n",
    "        size += data.nbytes\n",
    "        stack.append(data)\n",
    "    start = time.perf_counter()\n",
    "    median = np.median(np.array(stack), axis=0)\n",
    "    total_time = time.perf_counter() - start\n",
    "    \n",
    "    return median, total_time, size/1024"
   ]
  },
  {
   "cell_type": "code",
   "execution_count": 20,
   "metadata": {},
   "outputs": [
    {
     "name": "stdout",
     "output_type": "stream",
     "text": [
      "0.012338057160377502 0.003900251000004573 625.0\n"
     ]
    }
   ],
   "source": [
    "result = median_fits(['image0.fits', 'image1.fits'])\n",
    "print(result[0][100, 100], result[1], result[2]) "
   ]
  },
  {
   "cell_type": "code",
   "execution_count": 21,
   "metadata": {},
   "outputs": [
    {
     "name": "stdout",
     "output_type": "stream",
     "text": [
      "0.01186725776642561 0.08110359800002698 3437.5\n"
     ]
    }
   ],
   "source": [
    "result = median_fits(['image{}.fits'.format(str(i)) for i in range(11)])\n",
    "print(result[0][100, 100], result[1], result[2]) "
   ]
  },
  {
   "cell_type": "code",
   "execution_count": null,
   "metadata": {},
   "outputs": [],
   "source": []
  }
 ],
 "metadata": {
  "kernelspec": {
   "display_name": "Python 3",
   "language": "python",
   "name": "python3"
  },
  "language_info": {
   "codemirror_mode": {
    "name": "ipython",
    "version": 3
   },
   "file_extension": ".py",
   "mimetype": "text/x-python",
   "name": "python",
   "nbconvert_exporter": "python",
   "pygments_lexer": "ipython3",
   "version": "3.8.5"
  }
 },
 "nbformat": 4,
 "nbformat_minor": 2
}
