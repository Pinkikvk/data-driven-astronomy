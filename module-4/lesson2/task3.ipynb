{
 "metadata": {
  "language_info": {
   "codemirror_mode": {
    "name": "ipython",
    "version": 3
   },
   "file_extension": ".py",
   "mimetype": "text/x-python",
   "name": "python",
   "nbconvert_exporter": "python",
   "pygments_lexer": "ipython3",
   "version": "3.8.5-final"
  },
  "orig_nbformat": 2,
  "kernelspec": {
   "name": "Python 3.8.5 64-bit",
   "display_name": "Python 3.8.5 64-bit",
   "metadata": {
    "interpreter": {
     "hash": "082e9a3bcad0a290d0001e938aa60b99250c6c2ef33a923c00b70f9826caf4b7"
    }
   }
  }
 },
 "nbformat": 4,
 "nbformat_minor": 2,
 "cells": [
  {
   "cell_type": "code",
   "execution_count": 1,
   "metadata": {},
   "outputs": [],
   "source": [
    "import numpy as np"
   ]
  },
  {
   "cell_type": "code",
   "execution_count": 2,
   "metadata": {},
   "outputs": [],
   "source": [
    "import psycopg2"
   ]
  },
  {
   "cell_type": "code",
   "execution_count": 4,
   "metadata": {},
   "outputs": [],
   "source": [
    "stars = np.loadtxt('stars.csv', delimiter=',', usecols=(0,2))"
   ]
  },
  {
   "cell_type": "code",
   "execution_count": 6,
   "metadata": {},
   "outputs": [
    {
     "output_type": "execute_result",
     "data": {
      "text/plain": [
       "array([False, False, False, False,  True,  True, False, False, False,\n",
       "       False, False, False, False, False, False, False, False, False,\n",
       "       False,  True,  True,  True, False, False, False, False, False,\n",
       "       False,  True, False,  True, False, False,  True, False,  True,\n",
       "       False,  True, False, False,  True, False,  True, False,  True,\n",
       "       False, False, False,  True, False, False, False, False, False,\n",
       "        True, False, False, False, False, False, False, False, False,\n",
       "       False, False, False])"
      ]
     },
     "metadata": {},
     "execution_count": 6
    }
   ],
   "source": [
    "stars[:, 1] > 1"
   ]
  },
  {
   "cell_type": "code",
   "execution_count": 9,
   "metadata": {},
   "outputs": [
    {
     "output_type": "execute_result",
     "data": {
      "text/plain": [
       "array([[3.3429700e+06, 1.0640000e+00],\n",
       "       [3.3518880e+06, 1.0570000e+00],\n",
       "       [6.9222440e+06, 1.4510000e+00],\n",
       "       [8.3956600e+06, 1.0290000e+00],\n",
       "       [9.5796410e+06, 1.3320000e+00],\n",
       "       [1.0666592e+07, 1.9910000e+00],\n",
       "       [1.0797460e+07, 1.0400000e+00],\n",
       "       [1.0854555e+07, 1.0460000e+00],\n",
       "       [1.0875245e+07, 1.4110000e+00],\n",
       "       [1.0984090e+07, 1.0730000e+00],\n",
       "       [1.1138155e+07, 1.0250000e+00],\n",
       "       [1.1304958e+07, 1.0460000e+00],\n",
       "       [1.1403044e+07, 1.1030000e+00],\n",
       "       [1.1493732e+07, 1.0910000e+00],\n",
       "       [1.1904151e+07, 1.0560000e+00]])"
      ]
     },
     "metadata": {},
     "execution_count": 9
    }
   ],
   "source": [
    "stars[stars[:, 1] > 1.0,:]"
   ]
  },
  {
   "cell_type": "code",
   "execution_count": 10,
   "metadata": {},
   "outputs": [],
   "source": [
    "def query(file_name):\n",
    "    stars = np.loadtxt(file_name, delimiter=',', usecols=(0,2))\n",
    "    return stars[stars[:, 1] > 1.0,:]"
   ]
  },
  {
   "cell_type": "code",
   "execution_count": 11,
   "metadata": {},
   "outputs": [
    {
     "output_type": "execute_result",
     "data": {
      "text/plain": [
       "array([[3.3429700e+06, 1.0640000e+00],\n",
       "       [3.3518880e+06, 1.0570000e+00],\n",
       "       [6.9222440e+06, 1.4510000e+00],\n",
       "       [8.3956600e+06, 1.0290000e+00],\n",
       "       [9.5796410e+06, 1.3320000e+00],\n",
       "       [1.0666592e+07, 1.9910000e+00],\n",
       "       [1.0797460e+07, 1.0400000e+00],\n",
       "       [1.0854555e+07, 1.0460000e+00],\n",
       "       [1.0875245e+07, 1.4110000e+00],\n",
       "       [1.0984090e+07, 1.0730000e+00],\n",
       "       [1.1138155e+07, 1.0250000e+00],\n",
       "       [1.1304958e+07, 1.0460000e+00],\n",
       "       [1.1403044e+07, 1.1030000e+00],\n",
       "       [1.1493732e+07, 1.0910000e+00],\n",
       "       [1.1904151e+07, 1.0560000e+00]])"
      ]
     },
     "metadata": {},
     "execution_count": 11
    }
   ],
   "source": [
    "query('stars.csv')"
   ]
  },
  {
   "cell_type": "code",
   "execution_count": 14,
   "metadata": {},
   "outputs": [
    {
     "output_type": "execute_result",
     "data": {
      "text/plain": [
       "array([53, 59, 12, 56, 27, 50,  1, 25, 24, 55, 17, 36, 14, 60, 22, 11,  6,\n",
       "       63, 52, 13, 43, 16, 64, 39, 32, 26, 10, 51,  7, 38, 46,  2, 29,  8,\n",
       "       58, 31, 18,  9, 61, 65, 62, 15, 23,  0, 45, 41, 49, 34,  3, 47, 57,\n",
       "       40, 20, 30, 33, 42, 54,  5,  4, 37, 48, 44, 21, 35, 19, 28])"
      ]
     },
     "metadata": {},
     "execution_count": 14
    }
   ],
   "source": [
    "stars[:,1].argsort()"
   ]
  },
  {
   "cell_type": "code",
   "execution_count": 15,
   "metadata": {},
   "outputs": [
    {
     "output_type": "execute_result",
     "data": {
      "text/plain": [
       "array([[1.1853255e+07, 4.5000000e-01],\n",
       "       [1.2066335e+07, 4.8000000e-01],\n",
       "       [4.1398160e+06, 4.8000000e-01],\n",
       "       [1.1923270e+07, 4.9000000e-01],\n",
       "       [1.0662202e+07, 5.2700000e-01],\n",
       "       [1.1754553e+07, 5.4000000e-01],\n",
       "       [3.1141670e+06, 6.7700000e-01],\n",
       "       [1.0583066e+07, 6.9300000e-01],\n",
       "       [1.0526549e+07, 6.9600000e-01],\n",
       "       [1.1918099e+07, 7.2700000e-01],\n",
       "       [5.4566510e+06, 7.3400000e-01],\n",
       "       [1.0910878e+07, 7.4200000e-01],\n",
       "       [4.4761230e+06, 7.5100000e-01],\n",
       "       [1.2070811e+07, 7.5200000e-01],\n",
       "       [1.0187017e+07, 7.5500000e-01],\n",
       "       [4.0491310e+06, 7.6100000e-01],\n",
       "       [3.4532140e+06, 7.7000000e-01],\n",
       "       [1.2404086e+07, 7.7500000e-01],\n",
       "       [1.1818800e+07, 7.8100000e-01],\n",
       "       [4.2751910e+06, 7.8100000e-01],\n",
       "       [1.1391957e+07, 7.8200000e-01],\n",
       "       [5.3586240e+06, 7.8800000e-01],\n",
       "       [1.2470844e+07, 7.8800000e-01],\n",
       "       [1.1018648e+07, 7.9600000e-01],\n",
       "       [1.0848459e+07, 8.0300000e-01],\n",
       "       [1.0601284e+07, 8.0600000e-01],\n",
       "       [3.9404180e+06, 8.0700000e-01],\n",
       "       [1.1812062e+07, 8.1200000e-01],\n",
       "       [3.6417260e+06, 8.2000000e-01],\n",
       "       [1.0987985e+07, 8.2600000e-01],\n",
       "       [1.1460018e+07, 8.3100000e-01],\n",
       "       [3.1158330e+06, 8.4700000e-01],\n",
       "       [1.0682541e+07, 8.4700000e-01],\n",
       "       [3.8324740e+06, 8.6700000e-01],\n",
       "       [1.2020329e+07, 8.6700000e-01],\n",
       "       [1.0811496e+07, 8.6800000e-01],\n",
       "       [6.8623280e+06, 8.7100000e-01],\n",
       "       [3.9359140e+06, 8.9300000e-01],\n",
       "       [1.2110942e+07, 9.1700000e-01],\n",
       "       [1.2644822e+07, 9.1900000e-01],\n",
       "       [1.2366084e+07, 9.3100000e-01],\n",
       "       [5.3582410e+06, 9.4500000e-01],\n",
       "       [1.0480982e+07, 9.4700000e-01],\n",
       "       [2.7130490e+06, 9.5600000e-01],\n",
       "       [1.1414511e+07, 9.6500000e-01],\n",
       "       [1.1153539e+07, 9.6900000e-01],\n",
       "       [1.1507101e+07, 9.7100000e-01],\n",
       "       [1.0872983e+07, 9.7200000e-01],\n",
       "       [3.2469840e+06, 9.7300000e-01],\n",
       "       [1.1465813e+07, 9.8300000e-01],\n",
       "       [1.1960862e+07, 9.8900000e-01],\n",
       "       [1.1138155e+07, 1.0250000e+00],\n",
       "       [8.3956600e+06, 1.0290000e+00],\n",
       "       [1.0797460e+07, 1.0400000e+00],\n",
       "       [1.0854555e+07, 1.0460000e+00],\n",
       "       [1.1304958e+07, 1.0460000e+00],\n",
       "       [1.1904151e+07, 1.0560000e+00],\n",
       "       [3.3518880e+06, 1.0570000e+00],\n",
       "       [3.3429700e+06, 1.0640000e+00],\n",
       "       [1.0984090e+07, 1.0730000e+00],\n",
       "       [1.1493732e+07, 1.0910000e+00],\n",
       "       [1.1403044e+07, 1.1030000e+00],\n",
       "       [9.5796410e+06, 1.3320000e+00],\n",
       "       [1.0875245e+07, 1.4110000e+00],\n",
       "       [6.9222440e+06, 1.4510000e+00],\n",
       "       [1.0666592e+07, 1.9910000e+00]])"
      ]
     },
     "metadata": {},
     "execution_count": 15
    }
   ],
   "source": [
    "stars[stars[:,1].argsort(), :]"
   ]
  },
  {
   "cell_type": "code",
   "execution_count": 16,
   "metadata": {},
   "outputs": [],
   "source": [
    "def query(file_name):\n",
    "    stars = np.loadtxt(file_name, delimiter=',', usecols=(0,2))\n",
    "    big_stars = stars[stars[:, 1] > 1.0,:]\n",
    "    return big_stars[big_stars[:,1].argsort(), :]"
   ]
  },
  {
   "cell_type": "code",
   "execution_count": 17,
   "metadata": {},
   "outputs": [
    {
     "output_type": "execute_result",
     "data": {
      "text/plain": [
       "array([[1.1138155e+07, 1.0250000e+00],\n",
       "       [8.3956600e+06, 1.0290000e+00],\n",
       "       [1.0797460e+07, 1.0400000e+00],\n",
       "       [1.0854555e+07, 1.0460000e+00],\n",
       "       [1.1304958e+07, 1.0460000e+00],\n",
       "       [1.1904151e+07, 1.0560000e+00],\n",
       "       [3.3518880e+06, 1.0570000e+00],\n",
       "       [3.3429700e+06, 1.0640000e+00],\n",
       "       [1.0984090e+07, 1.0730000e+00],\n",
       "       [1.1493732e+07, 1.0910000e+00],\n",
       "       [1.1403044e+07, 1.1030000e+00],\n",
       "       [9.5796410e+06, 1.3320000e+00],\n",
       "       [1.0875245e+07, 1.4110000e+00],\n",
       "       [6.9222440e+06, 1.4510000e+00],\n",
       "       [1.0666592e+07, 1.9910000e+00]])"
      ]
     },
     "metadata": {},
     "execution_count": 17
    }
   ],
   "source": [
    "query('stars.csv')"
   ]
  },
  {
   "cell_type": "code",
   "execution_count": 68,
   "metadata": {},
   "outputs": [],
   "source": [
    "def query(stars_file, planets_file):\n",
    "    stars = np.loadtxt(stars_file, delimiter=',', usecols=(0,2))\n",
    "    stars = stars[stars[:, 1] > 1.0,:]\n",
    "    planets = np.loadtxt(planets_file, delimiter=',', usecols=(0,5))\n",
    "\n",
    "    result = []\n",
    "    for star in stars:\n",
    "        kepler_id = star[0]\n",
    "        star_radius = star[1]\n",
    "        star_planets = planets[planets[:,0]==kepler_id ,:]\n",
    "        planet_ratio = star_planets[:,1] / star_radius\n",
    "\n",
    "        result = np.concatenate((result, planet_ratio))\n",
    "\n",
    "    result = np.sort(result)\n",
    "    return np.reshape(result, (-1,1))"
   ]
  },
  {
   "cell_type": "code",
   "execution_count": 69,
   "metadata": {},
   "outputs": [
    {
     "output_type": "execute_result",
     "data": {
      "text/plain": [
       "array([ 0.48798799,  0.8260447 ,  0.96209913,  1.1556384 ,  1.30403969,\n",
       "        1.37310606,  1.41141141,  2.28377065,  2.46246246,  2.50728863,\n",
       "        2.59082218,  2.98076923,  2.98076923,  3.29887218,  3.40225564,\n",
       "        4.04351768,  5.47801147,  8.2320442 ,  9.21475875, 10.22053756,\n",
       "       11.5902439 , 58.87259395])"
      ]
     },
     "metadata": {},
     "execution_count": 69
    }
   ],
   "source": [
    "query('stars.csv', 'planets.csv')"
   ]
  }
 ]
}