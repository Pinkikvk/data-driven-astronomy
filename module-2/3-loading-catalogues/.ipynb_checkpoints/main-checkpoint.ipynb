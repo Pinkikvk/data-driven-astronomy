{
 "cells": [
  {
   "cell_type": "code",
   "execution_count": 1,
   "metadata": {},
   "outputs": [],
   "source": [
    "import numpy as np"
   ]
  },
  {
   "cell_type": "code",
   "execution_count": 4,
   "metadata": {},
   "outputs": [],
   "source": [
    "cat = np.loadtxt('bss.dat', usecols=range(1,7))"
   ]
  },
  {
   "cell_type": "code",
   "execution_count": 17,
   "metadata": {},
   "outputs": [
    {
     "data": {
      "text/plain": [
       "35.65"
      ]
     },
     "execution_count": 17,
     "metadata": {},
     "output_type": "execute_result"
    }
   ],
   "source": [
    "cat[0,2]"
   ]
  },
  {
   "cell_type": "code",
   "execution_count": 7,
   "metadata": {},
   "outputs": [],
   "source": [
    "cat2 = np.loadtxt('super.csv', delimiter=',', skiprows=1, usecols=[0,1])"
   ]
  },
  {
   "cell_type": "code",
   "execution_count": 8,
   "metadata": {},
   "outputs": [
    {
     "data": {
      "text/plain": [
       "array([  1.0583407, -52.9162402])"
      ]
     },
     "execution_count": 8,
     "metadata": {},
     "output_type": "execute_result"
    }
   ],
   "source": [
    "cat2[0]"
   ]
  },
  {
   "cell_type": "code",
   "execution_count": 9,
   "metadata": {},
   "outputs": [],
   "source": [
    "def hms2dec(hours, minutes, seconds):\n",
    "    return 15*(hours + minutes/60 + seconds/(60**2))"
   ]
  },
  {
   "cell_type": "code",
   "execution_count": 10,
   "metadata": {},
   "outputs": [],
   "source": [
    "def dms2dec(degrees, minutes, seconds):\n",
    "    sign = 1 if degrees > 0 else -1\n",
    "    return sign*(abs(degrees) + minutes/60 + seconds/(60**2))"
   ]
  },
  {
   "cell_type": "code",
   "execution_count": 22,
   "metadata": {},
   "outputs": [],
   "source": [
    "def import_bss():\n",
    "    result = list()\n",
    "    cat = np.loadtxt('bss.dat', usecols=range(1,7))\n",
    "    for i in range(0, len(cat)):\n",
    "        ra = hms2dec(cat[i,0], cat[i,1], cat[i,2])\n",
    "        dec = dms2dec(cat[i,3], cat[i,4], cat[i,5])\n",
    "        result.append((i+1, ra, dec))\n",
    "    return result"
   ]
  },
  {
   "cell_type": "code",
   "execution_count": 23,
   "metadata": {},
   "outputs": [
    {
     "data": {
      "text/plain": [
       "[(1, 1.1485416666666666, -47.60530555555556),\n",
       " (2, 2.6496666666666666, -30.463416666666667),\n",
       " (3, 2.7552916666666665, -26.209194444444442)]"
      ]
     },
     "execution_count": 23,
     "metadata": {},
     "output_type": "execute_result"
    }
   ],
   "source": [
    "import_bss()"
   ]
  },
  {
   "cell_type": "code",
   "execution_count": 24,
   "metadata": {},
   "outputs": [],
   "source": [
    "def import_super():\n",
    "    result = list()\n",
    "    cat = np.loadtxt('super.csv', delimiter=',', skiprows=1, usecols=[0,1])\n",
    "    for i in range(0, len(cat)):\n",
    "        ra = cat[i,0]\n",
    "        dec = cat[i,1]\n",
    "        result.append((i+1, ra, dec))\n",
    "    return result"
   ]
  },
  {
   "cell_type": "code",
   "execution_count": 25,
   "metadata": {},
   "outputs": [
    {
     "data": {
      "text/plain": [
       "[(1, 1.0583407, -52.9162402),\n",
       " (2, 2.6084425, -41.5005753),\n",
       " (3, 2.7302499, -27.706955)]"
      ]
     },
     "execution_count": 25,
     "metadata": {},
     "output_type": "execute_result"
    }
   ],
   "source": [
    "import_super()"
   ]
  },
  {
   "cell_type": "code",
   "execution_count": null,
   "metadata": {},
   "outputs": [],
   "source": []
  }
 ],
 "metadata": {
  "kernelspec": {
   "display_name": "Python 3",
   "language": "python",
   "name": "python3"
  },
  "language_info": {
   "codemirror_mode": {
    "name": "ipython",
    "version": 3
   },
   "file_extension": ".py",
   "mimetype": "text/x-python",
   "name": "python",
   "nbconvert_exporter": "python",
   "pygments_lexer": "ipython3",
   "version": "3.8.5"
  }
 },
 "nbformat": 4,
 "nbformat_minor": 2
}
