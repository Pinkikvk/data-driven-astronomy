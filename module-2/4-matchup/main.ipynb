{
 "cells": [
  {
   "cell_type": "code",
   "execution_count": 1,
   "metadata": {},
   "outputs": [],
   "source": [
    "import numpy as np"
   ]
  },
  {
   "cell_type": "code",
   "execution_count": 2,
   "metadata": {},
   "outputs": [],
   "source": [
    "def hms2dec(hours, minutes, seconds):\n",
    "    return 15*(hours + minutes/60 + seconds/(60**2))"
   ]
  },
  {
   "cell_type": "code",
   "execution_count": 3,
   "metadata": {},
   "outputs": [],
   "source": [
    "def dms2dec(degrees, minutes, seconds):\n",
    "    sign = 1 if degrees > 0 else -1\n",
    "    return sign*(abs(degrees) + minutes/60 + seconds/(60**2))"
   ]
  },
  {
   "cell_type": "code",
   "execution_count": 4,
   "metadata": {},
   "outputs": [],
   "source": [
    "def import_bss():\n",
    "    result = list()\n",
    "    cat = np.loadtxt('bss.dat', usecols=range(1,7))\n",
    "    for i in range(0, len(cat)):\n",
    "        ra = hms2dec(cat[i,0], cat[i,1], cat[i,2])\n",
    "        dec = dms2dec(cat[i,3], cat[i,4], cat[i,5])\n",
    "        result.append((i+1, ra, dec))\n",
    "    return result"
   ]
  },
  {
   "cell_type": "code",
   "execution_count": 5,
   "metadata": {},
   "outputs": [],
   "source": [
    "def import_super():\n",
    "    result = list()\n",
    "    cat = np.loadtxt('super.csv', delimiter=',', skiprows=1, usecols=[0,1])\n",
    "    for i in range(0, len(cat)):\n",
    "        ra = cat[i,0]\n",
    "        dec = cat[i,1]\n",
    "        result.append((i+1, ra, dec))\n",
    "    return result"
   ]
  },
  {
   "cell_type": "code",
   "execution_count": 6,
   "metadata": {},
   "outputs": [],
   "source": [
    "def angular_dist(r1_deg, d1_deg, r2_deg, d2_deg):\n",
    "    r1 = np.radians(r1_deg)\n",
    "    d1 = np.radians(d1_deg)\n",
    "    r2 = np.radians(r2_deg)\n",
    "    d2 = np.radians(d2_deg)\n",
    "    \n",
    "    a = np.sin(np.abs(d1 - d2)/2)**2\n",
    "    b = np.cos(d1) * np.cos(d2) * np.sin(np.abs(r1 - r2)/2)**2\n",
    "    \n",
    "    d = 2 * np.arcsin(np.sqrt(a+b))\n",
    "    \n",
    "    return np.degrees(d)"
   ]
  },
  {
   "cell_type": "code",
   "execution_count": 11,
   "metadata": {},
   "outputs": [],
   "source": [
    "def find_closest(catalog, ra, dec):\n",
    "    closest = {}\n",
    "    closest_dist = 360\n",
    "    for element in catalog:\n",
    "        dist = angular_dist(ra, dec, element[1], element[2])\n",
    "        if dist < closest_dist:\n",
    "            closest_dist = dist\n",
    "            closest = element\n",
    "    return (closest[0], closest_dist)"
   ]
  },
  {
   "cell_type": "code",
   "execution_count": 14,
   "metadata": {},
   "outputs": [
    {
     "data": {
      "text/plain": [
       "(156, 3.7670580226469053)"
      ]
     },
     "execution_count": 14,
     "metadata": {},
     "output_type": "execute_result"
    }
   ],
   "source": [
    "cat = import_bss()\n",
    "find_closest(cat, 175.3, -32.5)"
   ]
  },
  {
   "cell_type": "code",
   "execution_count": 15,
   "metadata": {},
   "outputs": [
    {
     "data": {
      "text/plain": [
       "(26, 57.729135775621295)"
      ]
     },
     "execution_count": 15,
     "metadata": {},
     "output_type": "execute_result"
    }
   ],
   "source": [
    "cat = import_bss()\n",
    "find_closest(cat, 32.2, 40.7)\n",
    "(26, 57.729135775621295)"
   ]
  },
  {
   "cell_type": "code",
   "execution_count": 20,
   "metadata": {},
   "outputs": [],
   "source": [
    "def crossmatch(cat1, cat2, max_dist):\n",
    "    match = list()\n",
    "    no_match = list()\n",
    "    for e1 in cat1:\n",
    "        e2_id, e2_dist = find_closest(cat2, e1[1], e1[2])\n",
    "        if e2_dist < max_dist:\n",
    "            match.append((e1[0], e2_id, e2_dist))\n",
    "        else:\n",
    "            no_match.append(e1[0])\n",
    "    return (match, no_match)"
   ]
  },
  {
   "cell_type": "code",
   "execution_count": 21,
   "metadata": {},
   "outputs": [
    {
     "name": "stdout",
     "output_type": "stream",
     "text": [
      "[(1, 2, 0.00010988610938710059), (2, 4, 0.0007649845967242494), (3, 5, 0.00020863352870707666)]\n",
      "[5, 6, 11]\n",
      "9\n"
     ]
    }
   ],
   "source": [
    "bss_cat = import_bss()\n",
    "super_cat = import_super()\n",
    "max_dist = 40/3600\n",
    "matches, no_matches = crossmatch(bss_cat, super_cat, max_dist)\n",
    "print(matches[:3])\n",
    "print(no_matches[:3])\n",
    "print(len(no_matches))"
   ]
  },
  {
   "cell_type": "code",
   "execution_count": 22,
   "metadata": {},
   "outputs": [
    {
     "name": "stdout",
     "output_type": "stream",
     "text": [
      "[(1, 2, 0.00010988610938710059), (2, 4, 0.0007649845967242494), (3, 5, 0.00020863352870707666)]\n",
      "[5, 6, 11]\n",
      "40\n"
     ]
    }
   ],
   "source": [
    "bss_cat = import_bss()\n",
    "super_cat = import_super()\n",
    "max_dist = 5/3600\n",
    "matches, no_matches = crossmatch(bss_cat, super_cat, max_dist)\n",
    "print(matches[:3])\n",
    "print(no_matches[:3])\n",
    "print(len(no_matches))"
   ]
  },
  {
   "cell_type": "code",
   "execution_count": null,
   "metadata": {},
   "outputs": [],
   "source": []
  }
 ],
 "metadata": {
  "kernelspec": {
   "display_name": "Python 3",
   "language": "python",
   "name": "python3"
  },
  "language_info": {
   "codemirror_mode": {
    "name": "ipython",
    "version": 3
   },
   "file_extension": ".py",
   "mimetype": "text/x-python",
   "name": "python",
   "nbconvert_exporter": "python",
   "pygments_lexer": "ipython3",
   "version": "3.8.5"
  }
 },
 "nbformat": 4,
 "nbformat_minor": 2
}
