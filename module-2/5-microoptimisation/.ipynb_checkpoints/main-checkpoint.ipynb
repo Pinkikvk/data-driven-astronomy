{
 "cells": [
  {
   "cell_type": "code",
   "execution_count": 7,
   "metadata": {},
   "outputs": [],
   "source": [
    "import numpy as np\n",
    "import time"
   ]
  },
  {
   "cell_type": "code",
   "execution_count": 2,
   "metadata": {},
   "outputs": [],
   "source": [
    "cat1 = np.array([[180, 30], [45, 10], [300, -45]])"
   ]
  },
  {
   "cell_type": "code",
   "execution_count": 3,
   "metadata": {},
   "outputs": [
    {
     "data": {
      "text/plain": [
       "array([[180,  30],\n",
       "       [ 45,  10],\n",
       "       [300, -45]])"
      ]
     },
     "execution_count": 3,
     "metadata": {},
     "output_type": "execute_result"
    }
   ],
   "source": [
    "cat1"
   ]
  },
  {
   "cell_type": "code",
   "execution_count": 4,
   "metadata": {},
   "outputs": [
    {
     "data": {
      "text/plain": [
       "array([[ 3.14159265,  0.52359878],\n",
       "       [ 0.78539816,  0.17453293],\n",
       "       [ 5.23598776, -0.78539816]])"
      ]
     },
     "execution_count": 4,
     "metadata": {},
     "output_type": "execute_result"
    }
   ],
   "source": [
    "np.radians(cat1)"
   ]
  },
  {
   "cell_type": "code",
   "execution_count": 5,
   "metadata": {},
   "outputs": [],
   "source": [
    "def angular_dist(r1, d1, r2, d2):\n",
    "    a = np.sin(np.abs(d1 - d2)/2)**2\n",
    "    b = np.cos(d1) * np.cos(d2) * np.sin(np.abs(r1 - r2)/2)**2\n",
    "    \n",
    "    d = 2 * np.arcsin(np.sqrt(a+b))\n",
    "    \n",
    "    return d"
   ]
  },
  {
   "cell_type": "code",
   "execution_count": 20,
   "metadata": {},
   "outputs": [],
   "source": [
    "def crossmatch(cat1, cat2, max_radius):\n",
    "    start = time.perf_counter()\n",
    "    cat1_rad = np.radians(cat1)\n",
    "    cat2_rad = np.radians(cat2)\n",
    "    \n",
    "    match = list()\n",
    "    no_match = list()\n",
    "    \n",
    "    for i in range(0, len(cat1)):\n",
    "        e1 = cat1_rad[i]\n",
    "        min_e2_index = None\n",
    "        min_dist = 360\n",
    "        for j in range(0, len(cat2)):\n",
    "            e2 = cat2_rad[j]\n",
    "            dist = np.degrees(angular_dist(e1[0], e1[1], e2[0], e2[1]))\n",
    "            if dist < max_radius and dist < min_dist:\n",
    "                min_e2_index = j\n",
    "                min_dist = dist\n",
    "\n",
    "        if min_e2_index != None:\n",
    "            match.append((i, min_e2_index, min_dist))\n",
    "        else:\n",
    "            no_match.append(i)\n",
    "    \n",
    "    total_time = time.perf_counter() - start\n",
    "    \n",
    "    return (match, no_match, total_time)"
   ]
  },
  {
   "cell_type": "code",
   "execution_count": 21,
   "metadata": {},
   "outputs": [
    {
     "name": "stdout",
     "output_type": "stream",
     "text": [
      "matches: [(0, 0, 2.0000000000000027), (2, 2, 1.7420109046547023)]\n",
      "unmatched: [1]\n",
      "time taken: 0.00024412100003701198\n"
     ]
    }
   ],
   "source": [
    "cat1 = np.array([[180, 30], [45, 10], [300, -45]])\n",
    "cat2 = np.array([[180, 32], [55, 10], [302, -44]])\n",
    "matches, no_matches, time_taken = crossmatch(cat1, cat2, 5)\n",
    "print('matches:', matches)\n",
    "print('unmatched:', no_matches)\n",
    "print('time taken:', time_taken)"
   ]
  },
  {
   "cell_type": "code",
   "execution_count": null,
   "metadata": {},
   "outputs": [],
   "source": []
  }
 ],
 "metadata": {
  "kernelspec": {
   "display_name": "Python 3",
   "language": "python",
   "name": "python3"
  },
  "language_info": {
   "codemirror_mode": {
    "name": "ipython",
    "version": 3
   },
   "file_extension": ".py",
   "mimetype": "text/x-python",
   "name": "python",
   "nbconvert_exporter": "python",
   "pygments_lexer": "ipython3",
   "version": "3.8.5"
  }
 },
 "nbformat": 4,
 "nbformat_minor": 2
}
