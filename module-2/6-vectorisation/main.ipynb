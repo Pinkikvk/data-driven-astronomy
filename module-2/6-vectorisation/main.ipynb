{
 "cells": [
  {
   "cell_type": "code",
   "execution_count": 1,
   "metadata": {},
   "outputs": [],
   "source": [
    "import numpy as np\n",
    "import time "
   ]
  },
  {
   "cell_type": "code",
   "execution_count": 2,
   "metadata": {},
   "outputs": [],
   "source": [
    "def angular_dist(r1, d1, r2, d2):\n",
    "    a = np.sin(np.abs(d1 - d2)/2)**2\n",
    "    b = np.cos(d1) * np.cos(d2) * np.sin(np.abs(r1 - r2)/2)**2\n",
    "    \n",
    "    d = 2 * np.arcsin(np.sqrt(a+b))\n",
    "    \n",
    "    return d"
   ]
  },
  {
   "cell_type": "code",
   "execution_count": 3,
   "metadata": {},
   "outputs": [
    {
     "name": "stdout",
     "output_type": "stream",
     "text": [
      "[  2.         113.72587199 132.64478705]\n"
     ]
    }
   ],
   "source": [
    "ra1, dec1 = np.radians([180, 30])\n",
    "cat2 = [[180, 32], [55, 10], [302, -44]]\n",
    "cat2 = np.radians(cat2)\n",
    "ra2s, dec2s = cat2[:,0], cat2[:,1]\n",
    "dists = angular_dist(ra1, dec1, ra2s, dec2s)\n",
    "print(np.degrees(dists))"
   ]
  },
  {
   "cell_type": "code",
   "execution_count": 4,
   "metadata": {},
   "outputs": [],
   "source": [
    "def crossmatch(cat1, cat2, max_radius):\n",
    "    start = time.perf_counter()\n",
    "    cat1_rad = np.radians(cat1)\n",
    "    cat2_rad = np.radians(cat2)\n",
    "    \n",
    "    match = list()\n",
    "    no_match = list()\n",
    "    \n",
    "    for i in range(0, len(cat1)):\n",
    "        ra1 = cat1_rad[i, 0]\n",
    "        dec1 = cat1_rad[i, 1]\n",
    "        ra2s = cat2_rad[:, 0]\n",
    "        dec2s = cat2_rad[:, 1]\n",
    "        dists = np.degrees(angular_dist(ra1, dec1, ra2s, dec2s))\n",
    "        \n",
    "        min_arg = np.argmin(dists)\n",
    "        min_dist = dists[min_arg]\n",
    "\n",
    "        if min_dist < max_radius:\n",
    "            match.append((i, min_arg, min_dist))\n",
    "        else:\n",
    "            no_match.append(i)\n",
    "    \n",
    "    total_time = time.perf_counter() - start\n",
    "    \n",
    "    return (match, no_match, total_time)"
   ]
  },
  {
   "cell_type": "code",
   "execution_count": 5,
   "metadata": {},
   "outputs": [
    {
     "name": "stdout",
     "output_type": "stream",
     "text": [
      "matches: [(0, 0, 2.0000000000000027), (2, 2, 1.7420109046547023)]\n",
      "unmatched: [1]\n",
      "time taken: 0.00021337300000023873\n"
     ]
    }
   ],
   "source": [
    "cat1 = np.array([[180, 30], [45, 10], [300, -45]])\n",
    "cat2 = np.array([[180, 32], [55, 10], [302, -44]])\n",
    "matches, no_matches, time_taken = crossmatch(cat1, cat2, 5)\n",
    "print('matches:', matches)\n",
    "print('unmatched:', no_matches)\n",
    "print('time taken:', time_taken)"
   ]
  },
  {
   "cell_type": "code",
   "execution_count": 6,
   "metadata": {},
   "outputs": [],
   "source": [
    "def create_cat(n):\n",
    "    ras = np.random.uniform(0, 360, size=(n, 1))\n",
    "    decs = np.random.uniform(-90, 90, size=(n, 1))\n",
    "    return np.hstack((ras, decs))"
   ]
  },
  {
   "cell_type": "code",
   "execution_count": 8,
   "metadata": {},
   "outputs": [
    {
     "name": "stdout",
     "output_type": "stream",
     "text": [
      "matches: [(1, 803, 3.8913752763891876), (3, 117, 0.9350267663560272), (4, 516, 2.6614550899263634), (6, 309, 3.016189635451028), (7, 608, 3.1001443923061975), (8, 25, 4.672006571218018), (9, 993, 1.7286610192228464), (11, 864, 3.1634317080641035), (12, 693, 1.693620791094718), (14, 545, 2.5058067263561186), (15, 112, 2.595200329911495), (16, 198, 1.2188313315372907), (17, 19, 2.505585539537597), (18, 609, 1.7359734913571536), (19, 180, 3.9722023994726396), (20, 424, 1.3991415553030728), (22, 692, 0.6867704359188362), (23, 134, 3.9815716925270697), (24, 923, 3.3767927694465945), (26, 122, 1.8517269810216574), (27, 339, 2.0900972654098546), (28, 916, 1.3445218335256157), (29, 983, 2.5379911413337046), (30, 902, 1.4290031043102207), (32, 734, 3.7651244324107638), (33, 715, 3.0153564149192866), (34, 497, 0.7507703201656277), (37, 360, 2.3548633635324308), (38, 271, 1.7154718481579387), (39, 653, 4.963517149654861), (40, 500, 1.7141648359718717), (41, 909, 2.2288693316493124), (42, 653, 1.9988728083669252), (43, 68, 0.886087403362489), (44, 12, 0.7962264289059704), (46, 31, 0.8775470021815851), (47, 706, 0.9922682443967374), (48, 778, 4.3424181455536575), (49, 757, 0.2738159874536016), (50, 451, 1.9090997926009088), (51, 125, 2.5835888695201734), (52, 527, 0.7862162495374204), (53, 414, 4.984624911133313), (54, 760, 1.5592598952421768), (55, 882, 3.371465504095303), (56, 475, 1.9374958851748587), (57, 385, 3.7801897265742603), (58, 37, 1.364992847702132), (59, 215, 1.7548008229697538), (60, 869, 3.495486675326586), (61, 923, 3.34614996345853), (62, 341, 4.471109591062479), (63, 979, 1.294203396033645), (64, 641, 1.1721137757879136), (65, 567, 2.842023237509835), (66, 604, 0.7460110038168465), (68, 499, 1.3357585105133252), (69, 113, 1.4068872860872046), (70, 442, 2.50998074119733), (71, 88, 1.8017347326288211), (72, 548, 2.618913101715039), (73, 82, 0.5886599488887155), (74, 439, 1.9627342730912574), (75, 844, 4.452264429567511), (76, 681, 3.9920341735520126), (77, 706, 0.9300823466621921), (78, 778, 2.593597259397405), (79, 121, 1.073237857785334), (80, 16, 0.9929717943711847), (81, 647, 2.614531357357351), (83, 803, 4.662236410435428), (84, 724, 1.48582525693479), (85, 902, 0.6495636862714315), (87, 414, 0.9907203563647405), (88, 336, 1.4800140343436805), (89, 274, 3.71446271427128), (90, 674, 2.7736344771155577), (92, 218, 3.5306710893146125), (93, 770, 1.2984698776637515), (94, 777, 3.162867236429582), (95, 616, 0.4882881213651485), (96, 138, 1.8381458158687634), (97, 844, 3.000260834321737), (98, 739, 1.087674759786801), (99, 870, 4.84197569748778)]\n",
      "unmatched: [0, 2, 5, 10, 13, 21, 25, 31, 35, 36, 45, 67, 82, 86, 91]\n",
      "time taken: 0.021326397999999358\n"
     ]
    }
   ],
   "source": [
    "np.random.seed(0)\n",
    "cat1 = create_cat(100)\n",
    "cat2 = create_cat(1000)\n",
    "matches, no_matches, time_taken = crossmatch(cat1, cat2, 5)\n",
    "print('matches:', matches)\n",
    "print('unmatched:', no_matches)\n",
    "print('time taken:', time_taken)"
   ]
  },
  {
   "cell_type": "code",
   "execution_count": null,
   "metadata": {},
   "outputs": [],
   "source": []
  }
 ],
 "metadata": {
  "kernelspec": {
   "display_name": "Python 3",
   "language": "python",
   "name": "python3"
  },
  "language_info": {
   "codemirror_mode": {
    "name": "ipython",
    "version": 3
   },
   "file_extension": ".py",
   "mimetype": "text/x-python",
   "name": "python",
   "nbconvert_exporter": "python",
   "pygments_lexer": "ipython3",
   "version": "3.8.5"
  }
 },
 "nbformat": 4,
 "nbformat_minor": 2
}
